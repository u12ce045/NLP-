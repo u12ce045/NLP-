{
 "cells": [
  {
   "cell_type": "code",
   "execution_count": 2,
   "id": "reduced-light",
   "metadata": {},
   "outputs": [],
   "source": [
    "import torch\n",
    "from torch import nn,optim\n",
    "import torch.nn.functional as F\n",
    "import torchtext\n",
    "from torchtext.legacy import data\n",
    "import spacy\n",
    "from torch.nn.utils.rnn import pad_sequence,pack_padded_sequence,pad_packed_sequence\n",
    "from tqdm import tqdm\n",
    "from torch.autograd import Variable\n",
    "import pickle"
   ]
  },
  {
   "cell_type": "code",
   "execution_count": 3,
   "id": "dutch-rapid",
   "metadata": {},
   "outputs": [],
   "source": [
    "device=torch.device('cuda:0' if torch.cuda.is_available() else 'cpu')"
   ]
  },
  {
   "cell_type": "code",
   "execution_count": 4,
   "id": "fancy-northeast",
   "metadata": {},
   "outputs": [],
   "source": [
    "spacy_en=spacy.load(\"en_core_web_sm\",disable=['parser','tagger'])\n",
    "def tokenizer(text):\n",
    "    return [i.text for i in spacy_en.tokenizer(text) if not i.is_punct and not i.is_stop]\n",
    "TEXT = data.Field(tokenize=tokenizer,batch_first=True,include_lengths=True)\n",
    "LABEL = data.LabelField(dtype = torch.float,batch_first=True,use_vocab=False,preprocessing=data.Pipeline(lambda x: float(x)))"
   ]
  },
  {
   "cell_type": "code",
   "execution_count": 5,
   "id": "modified-college",
   "metadata": {},
   "outputs": [],
   "source": [
    "fields=[('review',TEXT),('sentiment',LABEL)]"
   ]
  },
  {
   "cell_type": "code",
   "execution_count": 6,
   "id": "terminal-brighton",
   "metadata": {},
   "outputs": [
    {
     "name": "stdout",
     "output_type": "stream",
     "text": [
      "{'review': ['family', 'normally', 'watch', 'local', 'movies', 'simple', 'reason', 'poorly', 'lack', 'depth', 'worth', 'time.<br', '/><br', '/>The', 'trailer', 'Nasaan', 'ka', 'man', 'caught', 'attention', 'daughter', 'law', 'daughter', 'took', 'time', 'watch', 'afternoon', 'movie', 'exceeded', 'expectations', 'cinematography', 'good', 'story', 'beautiful', 'acting', 'awesome', 'Jericho', 'Rosales', 'good', 'Claudine', 'Barretto', 'fact', 'despised', 'Diether', 'Ocampo', 'proves', 'effective', 'role', 'touched', 'moved', 'affected', 'local', 'movie', 'Imagine', 'cynic', 'like', 'dabbing', 'eyes', 'end', 'movie', 'Congratulations', 'Star', 'Cinema', 'Way', 'Jericho', 'Claudine'], 'sentiment': 1.0}\n"
     ]
    }
   ],
   "source": [
    "path='D:/Projects/IMDb_Reviews.csv'\n",
    "training_data=data.TabularDataset(path=path,format='csv',fields=fields,skip_header=True)\n",
    "print(vars(training_data.examples[0]))"
   ]
  },
  {
   "cell_type": "code",
   "execution_count": 7,
   "id": "broadband-rebecca",
   "metadata": {},
   "outputs": [],
   "source": [
    "TEXT.build_vocab(training_data,min_freq=4)\n",
    "train_iter = data.Iterator(training_data, batch_size=64, sort_key=lambda x: len(x.review),\n",
    "                           sort_within_batch=True, shuffle=True,device=device)"
   ]
  },
  {
   "cell_type": "code",
   "execution_count": 8,
   "id": "logical-blind",
   "metadata": {},
   "outputs": [
    {
     "data": {
      "text/plain": [
       "\n",
       "[torchtext.legacy.data.batch.Batch of size 64]\n",
       "\t[.review]:('[torch.cuda.LongTensor of size 64x784 (GPU 0)]', '[torch.cuda.LongTensor of size 64 (GPU 0)]')\n",
       "\t[.sentiment]:[torch.cuda.FloatTensor of size 64 (GPU 0)]"
      ]
     },
     "execution_count": 8,
     "metadata": {},
     "output_type": "execute_result"
    }
   ],
   "source": [
    "batch = next(iter(train_iter))\n",
    "batch"
   ]
  },
  {
   "cell_type": "code",
   "execution_count": 28,
   "id": "rough-corruption",
   "metadata": {},
   "outputs": [],
   "source": [
    "class RNN(nn.Module):\n",
    "    def __init__(self,vocab_size,batch_size,emd_dim,hidden_dim,out_dim,n_layers):\n",
    "        super(RNN,self).__init__()\n",
    "        self.n_layers=n_layers\n",
    "        self.batch_size=batch_size\n",
    "        self.hidden_dim=hidden_dim\n",
    "        self.embedding=nn.Embedding(vocab_size,emd_dim)\n",
    "        self.gru=nn.GRU(emd_dim,hidden_dim,num_layers=n_layers,batch_first=True)\n",
    "        self.fc=nn.Linear(hidden_dim,out_dim)\n",
    "        self.sigmoid=nn.Sigmoid()\n",
    "    def _init_hidden(self,bs):\n",
    "        return torch.zeros(self.n_layers,bs,self.hidden_dim,device=device)\n",
    "    def forward(self,txt,txt_lengths):\n",
    "        embs=self.embedding(txt)\n",
    "        packed_embs = nn.utils.rnn.pack_padded_sequence(embs, txt_lengths,batch_first=True)\n",
    "        hidden=self._init_hidden(txt.size(0))\n",
    "        packed_output,hidden=self.gru(packed_embs,hidden)\n",
    "        outputs=self.sigmoid(self.fc(hidden))\n",
    "        return outputs.squeeze()"
   ]
  },
  {
   "cell_type": "code",
   "execution_count": 29,
   "id": "proof-temperature",
   "metadata": {},
   "outputs": [],
   "source": [
    "vocab_size=len(TEXT.vocab)\n",
    "emd_dim=100\n",
    "batch_size=64\n",
    "hidden_dim=32\n",
    "out_dim=1\n",
    "n_layers=1\n",
    "model=RNN(vocab_size,batch_size,emd_dim,hidden_dim,out_dim,n_layers).to(device)"
   ]
  },
  {
   "cell_type": "code",
   "execution_count": 30,
   "id": "indirect-channel",
   "metadata": {},
   "outputs": [
    {
     "data": {
      "text/plain": [
       "torch.Size([64])"
      ]
     },
     "execution_count": 30,
     "metadata": {},
     "output_type": "execute_result"
    }
   ],
   "source": [
    "model(batch.review[0],batch.review[1].cpu().numpy()).shape"
   ]
  },
  {
   "cell_type": "code",
   "execution_count": 31,
   "id": "controlling-communication",
   "metadata": {},
   "outputs": [],
   "source": [
    "optimizer = optim.Adam(model.parameters())\n",
    "criterion = nn.BCELoss()"
   ]
  },
  {
   "cell_type": "code",
   "execution_count": 32,
   "id": "structured-lesbian",
   "metadata": {},
   "outputs": [],
   "source": [
    "def accuracy(preds,targets):\n",
    "    preds=torch.round(preds)\n",
    "    return (preds==targets).cpu().sum().float()/preds.size(0)"
   ]
  },
  {
   "cell_type": "code",
   "execution_count": 33,
   "id": "formal-variable",
   "metadata": {},
   "outputs": [
    {
     "name": "stderr",
     "output_type": "stream",
     "text": [
      "100%|██████████████████████████████████████████████████████████████████████████████████| 30/30 [13:05<00:00, 26.17s/it]\n"
     ]
    }
   ],
   "source": [
    "train_loss_epoch=[]\n",
    "acc_epoch=[]\n",
    "model.train()\n",
    "for epoch in tqdm(range(30)):\n",
    "    losses=0.0\n",
    "    accs=0.0\n",
    "    for batch in train_iter:\n",
    "        optimizer.zero_grad()\n",
    "        texts,text_lengths=batch.review\n",
    "        texts=Variable(texts)\n",
    "        labels=Variable(batch.sentiment)\n",
    "        model._init_hidden(texts.size(0))\n",
    "        predictions=model(texts,text_lengths.cpu().numpy())\n",
    "        loss=criterion(predictions,labels)\n",
    "        acc=accuracy(predictions,labels)\n",
    "        loss.backward()\n",
    "        nn.utils.clip_grad_norm_(model.parameters(), 3)\n",
    "        optimizer.step()\n",
    "        losses+=loss.item()\n",
    "        accs+=acc.item()\n",
    "    train_loss_epoch.append(losses/len(train_iter))\n",
    "    acc_epoch.append(accs/len(train_iter))"
   ]
  },
  {
   "cell_type": "code",
   "execution_count": 34,
   "id": "broad-divide",
   "metadata": {},
   "outputs": [
    {
     "data": {
      "image/png": "[encoded data removed]",
      "text/plain": [
       "<Figure size 432x288 with 1 Axes>"
      ]
     },
     "metadata": {
      "needs_background": "light"
     },
     "output_type": "display_data"
    }
   ],
   "source": [
    "import matplotlib.pyplot as plt\n",
    "%matplotlib inline\n",
    "plt.plot(range(30),train_loss_epoch,color='b')\n",
    "plt.plot(range(30),acc_epoch,color='r')\n",
    "plt.legend(['Training loss','Accuracy'])\n",
    "plt.show()"
   ]
  },
  {
   "cell_type": "code",
   "execution_count": 35,
   "id": "valued-setup",
   "metadata": {},
   "outputs": [],
   "source": [
    "torch.save(model.state_dict(), 'D:/Projects/model_weights.pt')"
   ]
  },
  {
   "cell_type": "code",
   "execution_count": 36,
   "id": "fifty-connection",
   "metadata": {},
   "outputs": [],
   "source": [
    "with open('D:/Projects/tokenizer.pickle','wb') as f:\n",
    "    pickle.dump(TEXT.vocab.stoi,f)"
   ]
  },
  {
   "cell_type": "code",
   "execution_count": 37,
   "id": "dense-india",
   "metadata": {},
   "outputs": [],
   "source": [
    "with open('D:/Projects/vocabs.pickle','wb') as f:\n",
    "    pickle.dump(TEXT.vocab,f)"
   ]
  },
  {
   "cell_type": "code",
   "execution_count": null,
   "id": "buried-wyoming",
   "metadata": {},
   "outputs": [],
   "source": []
  },
  {
   "cell_type": "code",
   "execution_count": null,
   "id": "regulated-establishment",
   "metadata": {},
   "outputs": [],
   "source": []
  }
 ],
 "metadata": {
  "kernelspec": {
   "display_name": "Python 3",
   "language": "python",
   "name": "python3"
  },
  "language_info": {
   "codemirror_mode": {
    "name": "ipython",
    "version": 3
   },
   "file_extension": ".py",
   "mimetype": "text/x-python",
   "name": "python",
   "nbconvert_exporter": "python",
   "pygments_lexer": "ipython3",
   "version": "3.8.8"
  }
 },
 "nbformat": 4,
 "nbformat_minor": 5
}
